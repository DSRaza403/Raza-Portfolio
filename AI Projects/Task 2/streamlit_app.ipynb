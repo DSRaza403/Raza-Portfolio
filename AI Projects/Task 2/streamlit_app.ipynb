{
 "cells": [
  {
   "cell_type": "markdown",
   "id": "1ad885da",
   "metadata": {},
   "source": [
    "# AI Assignment from Vijayi WFH Technologies Pvt Ltd "
   ]
  },
  {
   "cell_type": "markdown",
   "id": "4442868e",
   "metadata": {},
   "source": [
    "## Task 2 -  Streamlit app"
   ]
  },
  {
   "cell_type": "code",
   "execution_count": 1,
   "id": "6d600052",
   "metadata": {},
   "outputs": [
    {
     "name": "stdout",
     "output_type": "stream",
     "text": [
      "WARNING:tensorflow:From C:\\Users\\HP\\anaconda3\\Lib\\site-packages\\tf_keras\\src\\losses.py:2976: The name tf.losses.sparse_softmax_cross_entropy is deprecated. Please use tf.compat.v1.losses.sparse_softmax_cross_entropy instead.\n",
      "\n"
     ]
    }
   ],
   "source": [
    "import streamlit as st\n",
    "import pandas as pd\n",
    "import faiss\n",
    "from sentence_transformers import SentenceTransformer\n",
    "from transformers import pipeline\n",
    "import json"
   ]
  },
  {
   "cell_type": "code",
   "execution_count": 16,
   "id": "ce30de44",
   "metadata": {},
   "outputs": [],
   "source": [
    "# Loading components\n",
    "@st.cache_resource\n",
    "def load_model():\n",
    "    return SentenceTransformer('./fine_tuned_model')\n",
    "\n",
    "@st.cache_resource\n",
    "def load_index():\n",
    "    return faiss.read_index(\"quote_index.faiss\")\n",
    "\n",
    "@st.cache_resource\n",
    "def load_data():\n",
    "    return pd.read_pickle(\"quotes_df.pkl\")\n",
    "\n",
    "@st.cache_resource\n",
    "def load_generator():\n",
    "    return pipeline('text-generation', model='gpt2')"
   ]
  },
  {
   "cell_type": "code",
   "execution_count": 17,
   "id": "27fd3f0d",
   "metadata": {},
   "outputs": [
    {
     "name": "stderr",
     "output_type": "stream",
     "text": [
      "2025-06-20 08:55:27.413 Thread 'MainThread': missing ScriptRunContext! This warning can be ignored when running in bare mode.\n",
      "2025-06-20 08:55:27.413 Thread 'MainThread': missing ScriptRunContext! This warning can be ignored when running in bare mode.\n",
      "2025-06-20 08:55:27.414 Thread 'MainThread': missing ScriptRunContext! This warning can be ignored when running in bare mode.\n",
      "2025-06-20 08:55:27.920 Thread 'Thread-12': missing ScriptRunContext! This warning can be ignored when running in bare mode.\n",
      "2025-06-20 08:55:27.923 Thread 'Thread-12': missing ScriptRunContext! This warning can be ignored when running in bare mode.\n",
      "Device set to use cpu\n",
      "2025-06-20 08:55:39.514 Thread 'MainThread': missing ScriptRunContext! This warning can be ignored when running in bare mode.\n",
      "2025-06-20 08:55:39.515 Thread 'MainThread': missing ScriptRunContext! This warning can be ignored when running in bare mode.\n"
     ]
    }
   ],
   "source": [
    "model = load_model()\n",
    "index = load_index()\n",
    "df = load_data()\n",
    "generator = load_generator()\n",
    "\n",
    "# Retrieval function\n",
    "def retrieve_quotes(query, k=5):\n",
    "    query_embed = model.encode([query])\n",
    "    distances, indices = index.search(query_embed, k)\n",
    "    return [\n",
    "        {\n",
    "            'quote': df.iloc[idx]['quote'],\n",
    "            'author': df.iloc[idx]['author'],\n",
    "            'tags': df.iloc[idx]['tags'],\n",
    "            'score': float(1/(1 + distances[0][i]))\n",
    "        }\n",
    "        for i, idx in enumerate(indices[0])\n",
    "    ]\n",
    "\n",
    "# Response generation\n",
    "def generate_response(query, context_quotes):\n",
    "    context = \"\\n\".join([f\"{q+1}. {item['quote']} - {item['author']}\" \n",
    "                        for q, item in enumerate(context_quotes)])\n",
    "    prompt = f\"Context:\\n{context}\\n\\nQuestion: {query}\\nAnswer:\"\n",
    "    response = generator(prompt, max_length=256, temperature=0.7)[0]['generated_text']\n",
    "    return response.split(\"Answer:\")[-1].strip()"
   ]
  },
  {
   "cell_type": "code",
   "execution_count": 18,
   "id": "5a26b38d",
   "metadata": {},
   "outputs": [
    {
     "name": "stderr",
     "output_type": "stream",
     "text": [
      "2025-06-20 08:55:39.522 Thread 'MainThread': missing ScriptRunContext! This warning can be ignored when running in bare mode.\n",
      "2025-06-20 08:55:39.523 Thread 'MainThread': missing ScriptRunContext! This warning can be ignored when running in bare mode.\n",
      "2025-06-20 08:55:39.523 Thread 'MainThread': missing ScriptRunContext! This warning can be ignored when running in bare mode.\n",
      "2025-06-20 08:55:39.524 Thread 'MainThread': missing ScriptRunContext! This warning can be ignored when running in bare mode.\n",
      "2025-06-20 08:55:39.524 Thread 'MainThread': missing ScriptRunContext! This warning can be ignored when running in bare mode.\n",
      "2025-06-20 08:55:39.525 Thread 'MainThread': missing ScriptRunContext! This warning can be ignored when running in bare mode.\n",
      "2025-06-20 08:55:39.525 Thread 'MainThread': missing ScriptRunContext! This warning can be ignored when running in bare mode.\n",
      "2025-06-20 08:55:39.526 Thread 'MainThread': missing ScriptRunContext! This warning can be ignored when running in bare mode.\n",
      "2025-06-20 08:55:39.526 Thread 'MainThread': missing ScriptRunContext! This warning can be ignored when running in bare mode.\n",
      "2025-06-20 08:55:39.527 Thread 'MainThread': missing ScriptRunContext! This warning can be ignored when running in bare mode.\n",
      "2025-06-20 08:55:39.527 Thread 'MainThread': missing ScriptRunContext! This warning can be ignored when running in bare mode.\n",
      "2025-06-20 08:55:39.528 Thread 'MainThread': missing ScriptRunContext! This warning can be ignored when running in bare mode.\n",
      "2025-06-20 08:55:39.528 Thread 'MainThread': missing ScriptRunContext! This warning can be ignored when running in bare mode.\n",
      "2025-06-20 08:55:39.529 Thread 'MainThread': missing ScriptRunContext! This warning can be ignored when running in bare mode.\n"
     ]
    }
   ],
   "source": [
    "# Streamlit UI\n",
    "st.set_page_config(page_title=\"Quote Retrieval System\", layout=\"wide\")\n",
    "st.title(\"📚 Semantic Quote Retrieval System\")\n",
    "\n",
    "# Query input\n",
    "query = st.text_input(\"Enter your query:\", placeholder=\"e.g., 'Quotes about hope by Oscar Wilde'\")\n",
    "\n",
    "if st.button(\"Search\") and query:\n",
    "    with st.spinner(\"Retrieving relevant quotes...\"):\n",
    "        # Retrieve quotes\n",
    "        retrieved_quotes = retrieve_quotes(query)\n",
    "        \n",
    "        # Generate response\n",
    "        answer = generate_response(query, retrieved_quotes)\n",
    "        \n",
    "        # Display results\n",
    "        st.subheader(\"Generated Answer\")\n",
    "        st.info(answer)\n",
    "        \n",
    "        st.subheader(\"Source Quotes\")\n",
    "        for i, quote in enumerate(retrieved_quotes):\n",
    "            with st.expander(f\"Quote {i+1} (Score: {quote['score']:.2f}):\"):\n",
    "                st.write(f\"**{quote['quote']}**\")\n",
    "                st.caption(f\"Author: {quote['author']}\")\n",
    "                st.caption(f\"Tags: {', '.join(quote['tags'])}\")\n",
    "        \n",
    "        # JSON output\n",
    "        st.subheader(\"Structured Output\")\n",
    "        output = {\n",
    "            \"query\": query,\n",
    "            \"answer\": answer,\n",
    "            \"sources\": retrieved_quotes\n",
    "        }\n",
    "        st.json(output)\n",
    "        \n",
    "        # Download button\n",
    "        st.download_button(\n",
    "            label=\"Download Results as JSON\",\n",
    "            data=json.dumps(output, indent=2),\n",
    "            file_name=\"quote_results.json\",\n",
    "            mime=\"application/json\"\n",
    "        )"
   ]
  },
  {
   "cell_type": "code",
   "execution_count": 5,
   "id": "9cd3043f",
   "metadata": {},
   "outputs": [
    {
     "name": "stderr",
     "output_type": "stream",
     "text": [
      "2025-06-20 08:36:33.942 Thread 'MainThread': missing ScriptRunContext! This warning can be ignored when running in bare mode.\n",
      "2025-06-20 08:36:33.942 Thread 'MainThread': missing ScriptRunContext! This warning can be ignored when running in bare mode.\n",
      "2025-06-20 08:36:33.943 Thread 'MainThread': missing ScriptRunContext! This warning can be ignored when running in bare mode.\n",
      "2025-06-20 08:36:33.943 Thread 'MainThread': missing ScriptRunContext! This warning can be ignored when running in bare mode.\n"
     ]
    },
    {
     "data": {
      "text/plain": [
       "DeltaGenerator(_root_container=1, _parent=DeltaGenerator())"
      ]
     },
     "execution_count": 5,
     "metadata": {},
     "output_type": "execute_result"
    }
   ],
   "source": [
    "# Sidebar info\n",
    "st.sidebar.header(\"About\")\n",
    "st.sidebar.info(\"\"\"\n",
    "This RAG-powered system retrieves relevant quotes based on semantic similarity.\n",
    "- **Fine-tuned model**: sentence-transformers/all-MiniLM-L6-v2\n",
    "- **Vector database**: FAISS\n",
    "- **LLM**: GPT-2 \n",
    "\"\"\")"
   ]
  }
 ],
 "metadata": {
  "kernelspec": {
   "display_name": "Python 3 (ipykernel)",
   "language": "python",
   "name": "python3"
  },
  "language_info": {
   "codemirror_mode": {
    "name": "ipython",
    "version": 3
   },
   "file_extension": ".py",
   "mimetype": "text/x-python",
   "name": "python",
   "nbconvert_exporter": "python",
   "pygments_lexer": "ipython3",
   "version": "3.11.5"
  }
 },
 "nbformat": 4,
 "nbformat_minor": 5
}
