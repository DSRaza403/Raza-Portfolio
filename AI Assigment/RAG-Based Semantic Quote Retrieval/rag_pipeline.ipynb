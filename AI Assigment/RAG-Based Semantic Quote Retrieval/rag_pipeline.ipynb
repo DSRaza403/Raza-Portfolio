{
 "cells": [
  {
   "cell_type": "markdown",
   "id": "7f8f3a70",
   "metadata": {},
   "source": [
    "# AI Assignment from Vijayi WFH Technologies Pvt Ltd "
   ]
  },
  {
   "cell_type": "markdown",
   "id": "8a838673",
   "metadata": {},
   "source": [
    "## Task 2 - RAG pipeline implementation"
   ]
  },
  {
   "cell_type": "code",
   "execution_count": 1,
   "id": "c8ff44c5",
   "metadata": {},
   "outputs": [
    {
     "name": "stdout",
     "output_type": "stream",
     "text": [
      "WARNING:tensorflow:From C:\\Users\\HP\\anaconda3\\Lib\\site-packages\\tf_keras\\src\\losses.py:2976: The name tf.losses.sparse_softmax_cross_entropy is deprecated. Please use tf.compat.v1.losses.sparse_softmax_cross_entropy instead.\n",
      "\n"
     ]
    }
   ],
   "source": [
    "import pandas as pd\n",
    "import faiss\n",
    "import json\n",
    "from sentence_transformers import SentenceTransformer\n",
    "from transformers import pipeline\n",
    "import numpy as np"
   ]
  },
  {
   "cell_type": "code",
   "execution_count": 2,
   "id": "2fd7f243",
   "metadata": {},
   "outputs": [
    {
     "data": {
      "application/vnd.jupyter.widget-view+json": {
       "model_id": "441de2829ae242149a22a9cc050c8801",
       "version_major": 2,
       "version_minor": 0
      },
      "text/plain": [
       "config.json:   0%|          | 0.00/718 [00:00<?, ?B/s]"
      ]
     },
     "metadata": {},
     "output_type": "display_data"
    },
    {
     "name": "stderr",
     "output_type": "stream",
     "text": [
      "C:\\Users\\HP\\anaconda3\\Lib\\site-packages\\huggingface_hub\\file_download.py:143: UserWarning: `huggingface_hub` cache-system uses symlinks by default to efficiently store duplicated files but your machine does not support them in C:\\Users\\HP\\.cache\\huggingface\\hub\\models--gpt2-medium. Caching files will still work but in a degraded version that might require more space on your disk. This warning can be disabled by setting the `HF_HUB_DISABLE_SYMLINKS_WARNING` environment variable. For more details, see https://huggingface.co/docs/huggingface_hub/how-to-cache#limitations.\n",
      "To support symlinks on Windows, you either need to activate Developer Mode or to run Python as an administrator. In order to activate developer mode, see this article: https://docs.microsoft.com/en-us/windows/apps/get-started/enable-your-device-for-development\n",
      "  warnings.warn(message)\n"
     ]
    },
    {
     "data": {
      "application/vnd.jupyter.widget-view+json": {
       "model_id": "bdc048711b5f491184dbcbb3aa688f37",
       "version_major": 2,
       "version_minor": 0
      },
      "text/plain": [
       "model.safetensors:   0%|          | 0.00/1.52G [00:00<?, ?B/s]"
      ]
     },
     "metadata": {},
     "output_type": "display_data"
    },
    {
     "data": {
      "application/vnd.jupyter.widget-view+json": {
       "model_id": "c2c38f2270da48308bcfcbbd9904b258",
       "version_major": 2,
       "version_minor": 0
      },
      "text/plain": [
       "tokenizer_config.json:   0%|          | 0.00/26.0 [00:00<?, ?B/s]"
      ]
     },
     "metadata": {},
     "output_type": "display_data"
    },
    {
     "data": {
      "application/vnd.jupyter.widget-view+json": {
       "model_id": "7bdd1dd21b3746788fccb23968b59b0c",
       "version_major": 2,
       "version_minor": 0
      },
      "text/plain": [
       "vocab.json:   0%|          | 0.00/1.04M [00:00<?, ?B/s]"
      ]
     },
     "metadata": {},
     "output_type": "display_data"
    },
    {
     "data": {
      "application/vnd.jupyter.widget-view+json": {
       "model_id": "2bd7033e1c3e468ba844903584e88ae8",
       "version_major": 2,
       "version_minor": 0
      },
      "text/plain": [
       "merges.txt:   0%|          | 0.00/456k [00:00<?, ?B/s]"
      ]
     },
     "metadata": {},
     "output_type": "display_data"
    },
    {
     "data": {
      "application/vnd.jupyter.widget-view+json": {
       "model_id": "bf3082be3c924eb9bb8c46850587be9f",
       "version_major": 2,
       "version_minor": 0
      },
      "text/plain": [
       "tokenizer.json:   0%|          | 0.00/1.36M [00:00<?, ?B/s]"
      ]
     },
     "metadata": {},
     "output_type": "display_data"
    },
    {
     "name": "stderr",
     "output_type": "stream",
     "text": [
      "Device set to use cpu\n"
     ]
    },
    {
     "data": {
      "application/vnd.jupyter.widget-view+json": {
       "model_id": "0220d4d499bd41c3a1f595e89809968c",
       "version_major": 2,
       "version_minor": 0
      },
      "text/plain": [
       "Batches:   0%|          | 0/79 [00:00<?, ?it/s]"
      ]
     },
     "metadata": {},
     "output_type": "display_data"
    }
   ],
   "source": [
    "# Loading data and model\n",
    "df = pd.read_csv('processed_quotes.csv')  # Saved from previous step\n",
    "model = SentenceTransformer('./fine_tuned_model')\n",
    "generator = pipeline('text-generation', model='gpt2-medium')\n",
    "\n",
    "# Creating quote embeddings\n",
    "quote_embeddings = model.encode(df['processed_quote'].tolist(), show_progress_bar=True)"
   ]
  },
  {
   "cell_type": "code",
   "execution_count": 5,
   "id": "71cc130d",
   "metadata": {},
   "outputs": [],
   "source": [
    "# Building FAISS index\n",
    "dimension = quote_embeddings.shape[1]\n",
    "index = faiss.IndexFlatL2(dimension)\n",
    "index.add(quote_embeddings.astype('float32'))\n",
    "\n",
    "# Retrieval function\n",
    "def retrieve_quotes(query, k=5):\n",
    "    query_embed = model.encode([query])\n",
    "    distances, indices = index.search(query_embed, k)\n",
    "    \n",
    "    results = []\n",
    "    for i, idx in enumerate(indices[0]):\n",
    "        results.append({\n",
    "            'quote': df.iloc[idx]['quote'],\n",
    "            'author': df.iloc[idx]['author'],\n",
    "            'tags': df.iloc[idx]['tags'],\n",
    "            'score': float(1/(1 + distances[0][i])) }) # Convert distance to similarity\n",
    "    return results"
   ]
  },
  {
   "cell_type": "code",
   "execution_count": 6,
   "id": "4f3285cb",
   "metadata": {},
   "outputs": [],
   "source": [
    "# RAG response generation function\n",
    "def generate_response(query, context_quotes):\n",
    "    context = \"\\n\".join([f\"{q+1}. {item['quote']} - {item['author']}\" \n",
    "                        for q, item in enumerate(context_quotes)])\n",
    "    \n",
    "    prompt = f\"\"\"Context quotes:{context} Question: {query} Answer:\"\"\"\n",
    "    \n",
    "    response = generator(\n",
    "        prompt,\n",
    "        max_length=256,\n",
    "        num_return_sequences=1,\n",
    "        temperature=0.7\n",
    "    )\n",
    "    return response[0]['generated_text'].split(\"Answer:\")[-1].strip()"
   ]
  },
  {
   "cell_type": "code",
   "execution_count": 7,
   "id": "88f042da",
   "metadata": {},
   "outputs": [],
   "source": [
    "# Full RAG pipeline\n",
    "def rag_pipeline(query):\n",
    "    retrieved = retrieve_quotes(query)\n",
    "    answer = generate_response(query, retrieved)\n",
    "    return {\n",
    "        \"query\": query,\n",
    "        \"answer\": answer,\n",
    "        \"source_quotes\": retrieved\n",
    "    }"
   ]
  },
  {
   "cell_type": "code",
   "execution_count": 8,
   "id": "709b78c2",
   "metadata": {},
   "outputs": [],
   "source": [
    "# Save components for later use\n",
    "faiss.write_index(index, \"quote_index.faiss\")\n",
    "df.to_pickle(\"quotes_df.pkl\")"
   ]
  }
 ],
 "metadata": {
  "kernelspec": {
   "display_name": "Python 3 (ipykernel)",
   "language": "python",
   "name": "python3"
  },
  "language_info": {
   "codemirror_mode": {
    "name": "ipython",
    "version": 3
   },
   "file_extension": ".py",
   "mimetype": "text/x-python",
   "name": "python",
   "nbconvert_exporter": "python",
   "pygments_lexer": "ipython3",
   "version": "3.11.5"
  }
 },
 "nbformat": 4,
 "nbformat_minor": 5
}
