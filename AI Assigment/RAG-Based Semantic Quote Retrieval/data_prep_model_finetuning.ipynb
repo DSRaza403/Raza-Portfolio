{
 "cells": [
  {
   "cell_type": "markdown",
   "id": "23d4b8ce",
   "metadata": {},
   "source": [
    "# AI Assignment from Vijayi WFH Technologies Pvt Ltd "
   ]
  },
  {
   "cell_type": "markdown",
   "id": "f107d3a4",
   "metadata": {},
   "source": [
    "## Task 2 - Data prep & model fine-tuning"
   ]
  },
  {
   "cell_type": "code",
   "execution_count": 1,
   "id": "96b6fdd1",
   "metadata": {},
   "outputs": [
    {
     "name": "stdout",
     "output_type": "stream",
     "text": [
      "WARNING:tensorflow:From C:\\Users\\HP\\anaconda3\\Lib\\site-packages\\tf_keras\\src\\losses.py:2976: The name tf.losses.sparse_softmax_cross_entropy is deprecated. Please use tf.compat.v1.losses.sparse_softmax_cross_entropy instead.\n",
      "\n"
     ]
    }
   ],
   "source": [
    "import pandas as pd\n",
    "from datasets import load_dataset\n",
    "from sentence_transformers import SentenceTransformer, InputExample, losses\n",
    "from torch.utils.data import DataLoader\n",
    "import re"
   ]
  },
  {
   "cell_type": "code",
   "execution_count": null,
   "id": "3fc6092d",
   "metadata": {},
   "outputs": [],
   "source": [
    "dataset = load_dataset(\"Abirate/english_quotes\")\n",
    "df = dataset['train'].to_pandas()"
   ]
  },
  {
   "cell_type": "code",
   "execution_count": 2,
   "id": "d46879a9",
   "metadata": {},
   "outputs": [],
   "source": [
    "# Data preprocessing\n",
    "def preprocess_text(text):\n",
    "    text = text.lower()  # Lowercase\n",
    "    text = re.sub(r'[^\\w\\s]', '', text)  # Remove special characters\n",
    "    return text.strip()"
   ]
  },
  {
   "cell_type": "code",
   "execution_count": 3,
   "id": "ac246eb1",
   "metadata": {},
   "outputs": [],
   "source": [
    "# Applying \n",
    "df['processed_quote'] = df['quote'].apply(preprocess_text)\n",
    "df['tags'] = df['tags'].apply(lambda x: [tag.lower() for tag in x])\n",
    "df = df.dropna(subset=['quote', 'author', 'tags']).reset_index(drop=True)"
   ]
  },
  {
   "cell_type": "code",
   "execution_count": 4,
   "id": "71a538e0",
   "metadata": {},
   "outputs": [],
   "source": [
    "# Preparing training data\n",
    "train_examples = []\n",
    "for _, row in df.iterrows():\n",
    "    # Create query-answer pairs\n",
    "    tags_str = ', '.join(row['tags'])\n",
    "    query = f\"Quotes about {tags_str} by {row['author']}\"\n",
    "    train_examples.append(InputExample(\n",
    "        texts=[query, row['processed_quote']]\n",
    "    ))"
   ]
  },
  {
   "cell_type": "code",
   "execution_count": 5,
   "id": "df18cc13",
   "metadata": {},
   "outputs": [
    {
     "data": {
      "application/vnd.jupyter.widget-view+json": {
       "model_id": "",
       "version_major": 2,
       "version_minor": 0
      },
      "text/plain": [
       "Computing widget examples:   0%|          | 0/1 [00:00<?, ?example/s]"
      ]
     },
     "metadata": {},
     "output_type": "display_data"
    },
    {
     "name": "stderr",
     "output_type": "stream",
     "text": [
      "C:\\Users\\HP\\anaconda3\\Lib\\site-packages\\torch\\utils\\data\\dataloader.py:665: UserWarning: 'pin_memory' argument is set as true but no accelerator is found, then device pinned memory won't be used.\n",
      "  warnings.warn(warn_msg)\n"
     ]
    },
    {
     "data": {
      "text/html": [
       "\n",
       "    <div>\n",
       "      \n",
       "      <progress value='237' max='237' style='width:300px; height:20px; vertical-align: middle;'></progress>\n",
       "      [237/237 19:27, Epoch 3/3]\n",
       "    </div>\n",
       "    <table border=\"1\" class=\"dataframe\">\n",
       "  <thead>\n",
       " <tr style=\"text-align: left;\">\n",
       "      <th>Step</th>\n",
       "      <th>Training Loss</th>\n",
       "    </tr>\n",
       "  </thead>\n",
       "  <tbody>\n",
       "  </tbody>\n",
       "</table><p>"
      ],
      "text/plain": [
       "<IPython.core.display.HTML object>"
      ]
     },
     "metadata": {},
     "output_type": "display_data"
    },
    {
     "name": "stdout",
     "output_type": "stream",
     "text": [
      "Model fine-tuning completed!\n"
     ]
    }
   ],
   "source": [
    "model = SentenceTransformer('sentence-transformers/all-MiniLM-L6-v2')\n",
    "\n",
    "# DataLoader setup\n",
    "train_dataloader = DataLoader(train_examples, shuffle=True, batch_size=32)\n",
    "train_loss = losses.MultipleNegativesRankingLoss(model)\n",
    "\n",
    "# Fine-tuning\n",
    "model.fit(\n",
    "    train_objectives=[(train_dataloader, train_loss)],\n",
    "    epochs=3,\n",
    "    warmup_steps=100,\n",
    "    output_path='./fine_tuned_model',\n",
    "    show_progress_bar=True\n",
    ")\n",
    "\n",
    "print(\"Model fine-tuning completed!\")"
   ]
  },
  {
   "cell_type": "code",
   "execution_count": 6,
   "id": "2fef11e0",
   "metadata": {},
   "outputs": [],
   "source": [
    "model.save('C:/Users/HP/Downloads/Task 2/fine_tuned_model')"
   ]
  },
  {
   "cell_type": "code",
   "execution_count": 7,
   "id": "faa02be1",
   "metadata": {},
   "outputs": [],
   "source": [
    "df.to_csv('processed_quotes.csv', index=False)"
   ]
  }
 ],
 "metadata": {
  "kernelspec": {
   "display_name": "Python 3 (ipykernel)",
   "language": "python",
   "name": "python3"
  },
  "language_info": {
   "codemirror_mode": {
    "name": "ipython",
    "version": 3
   },
   "file_extension": ".py",
   "mimetype": "text/x-python",
   "name": "python",
   "nbconvert_exporter": "python",
   "pygments_lexer": "ipython3",
   "version": "3.11.5"
  }
 },
 "nbformat": 4,
 "nbformat_minor": 5
}
